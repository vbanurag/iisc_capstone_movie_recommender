{
 "cells": [
  {
   "cell_type": "code",
   "execution_count": 1,
   "metadata": {},
   "outputs": [
    {
     "name": "stdout",
     "output_type": "stream",
     "text": [
      "['Forrest Gump', 'The Great Gatsby', 'Slumdog Millionaire', 'The Notebook', 'The Curious Case of Benjamin Button']\n"
     ]
    }
   ],
   "source": [
    "import requests\n",
    "#import requests_cache\n",
    "import json\n",
    "import pandas as pd\n",
    "\n",
    "def get_movies_from_tastedive(movie_name):      \n",
    "    dest_url = \"https://tastedive.com/api/similar\"\n",
    "   \n",
    "    dp = {'q': movie_name, 'type': 'movie', 'k':'1039874-Moviepro-A6E10BE0','limit':5}\n",
    "    resp = requests.get(dest_url, params = dp)\n",
    "    recommendation = resp.json()\n",
    "    similar=recommendation['similar']\n",
    "    #recommendation2=pd.DataFrame.from_dict(similar['results'])\n",
    "    tags=[]\n",
    "    for i in range(5):\n",
    "        tags.append((similar['results'][i]['name']))\n",
    "    return tags\n",
    "#print(type(get_movies_from_tastedive('Titanic')))\n",
    "\n",
    "def recommended_movies():\n",
    "    movie_name=input('Suggest a English movie name: ')\n",
    "    recommendation = get_movies_from_tastedive(movie_name)\n",
    "    print(recommendation)\n",
    "recommended_movies()\n",
    "#print((recommendation))\n",
    "\n",
    "#tags=recommendation.apply(convert3)\n",
    "#similar=recommendation['similar']\n",
    "#recommendation2=pd.DataFrame.from_dict(similar['results'])\n",
    "#tags=[]\n",
    "#for i in range(5):\n",
    "#    tags.append((similar['results'][i]['name']))\n",
    "#print(tags)\n",
    "#print(recommendation2.apply(convert3))"
   ]
  }
 ],
 "metadata": {
  "kernelspec": {
   "display_name": "Python 3",
   "language": "python",
   "name": "python3"
  },
  "language_info": {
   "codemirror_mode": {
    "name": "ipython",
    "version": 3
   },
   "file_extension": ".py",
   "mimetype": "text/x-python",
   "name": "python",
   "nbconvert_exporter": "python",
   "pygments_lexer": "ipython3",
   "version": "3.12.7"
  }
 },
 "nbformat": 4,
 "nbformat_minor": 2
}
